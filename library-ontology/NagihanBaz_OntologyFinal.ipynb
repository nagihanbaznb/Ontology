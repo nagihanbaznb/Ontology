{
 "cells": [
  {
   "cell_type": "markdown",
   "id": "1d170333",
   "metadata": {},
   "source": [
    "## Ontology Final Homework\n",
    "181805052-Elize Hamitoğlu\n",
    "171805024-Nagihan Baz"
   ]
  },
  {
   "cell_type": "code",
   "execution_count": 1,
   "id": "275d7d98",
   "metadata": {},
   "outputs": [],
   "source": [
    "from rdflib import Graph, Literal, RDF, URIRef\n",
    "from rdflib.namespace import FOAF, XSD"
   ]
  },
  {
   "cell_type": "code",
   "execution_count": 2,
   "id": "06cee895",
   "metadata": {},
   "outputs": [
    {
     "name": "stdout",
     "output_type": "stream",
     "text": [
      "Requirement already satisfied: rdflib in d:\\users\\elx13\\anaconda3\\lib\\site-packages (6.2.0)\n",
      "Requirement already satisfied: isodate in d:\\users\\elx13\\anaconda3\\lib\\site-packages (from rdflib) (0.6.1)\n",
      "Requirement already satisfied: setuptools in d:\\users\\elx13\\anaconda3\\lib\\site-packages (from rdflib) (58.0.4)\n",
      "Requirement already satisfied: pyparsing in d:\\users\\elx13\\anaconda3\\lib\\site-packages (from rdflib) (3.0.4)\n",
      "Requirement already satisfied: six in d:\\users\\elx13\\anaconda3\\lib\\site-packages (from isodate->rdflib) (1.16.0)\n"
     ]
    }
   ],
   "source": [
    "import sys \n",
    "!{sys.executable} -m pip install rdflib"
   ]
  },
  {
   "cell_type": "code",
   "execution_count": 4,
   "id": "7162b5a2",
   "metadata": {},
   "outputs": [],
   "source": [
    "file_path = r'C:\\Users\\elx13\\Desktop\\ontolojiders\\libraryontology2.owl'\n",
    "g = Graph()"
   ]
  },
  {
   "cell_type": "code",
   "execution_count": 5,
   "id": "0fc04bda",
   "metadata": {},
   "outputs": [
    {
     "data": {
      "text/plain": [
       "<Graph identifier=N38d700d3eef542e18385e3b79439d285 (<class 'rdflib.graph.Graph'>)>"
      ]
     },
     "execution_count": 5,
     "metadata": {},
     "output_type": "execute_result"
    }
   ],
   "source": [
    "g.parse(file_path)"
   ]
  },
  {
   "cell_type": "code",
   "execution_count": 6,
   "id": "a3bab280",
   "metadata": {},
   "outputs": [
    {
     "name": "stdout",
     "output_type": "stream",
     "text": [
      "http://www.semanticweb.org/elx13/ontologies/2022/0/library-ontology#Nagihan_Baz http://www.semanticweb.org/elx13/ontologies/2022/0/library-ontology#visits http://www.semanticweb.org/elx13/ontologies/2022/0/library-ontology#France\n",
      "http://www.semanticweb.org/elx13/ontologies/2022/0/library-ontology#Psychometry http://www.w3.org/2000/01/rdf-schema#subClassOf http://www.semanticweb.org/elx13/ontologies/2022/0/library-ontology#Psychology\n",
      "http://www.semanticweb.org/elx13/ontologies/2022/0/library-ontology#work http://www.w3.org/1999/02/22-rdf-syntax-ns#type http://www.w3.org/2002/07/owl#ObjectProperty\n",
      "http://www.semanticweb.org/elx13/ontologies/2022/0/library-ontology#Computer http://www.w3.org/1999/02/22-rdf-syntax-ns#type http://www.w3.org/2002/07/owl#Class\n",
      "http://www.semanticweb.org/elx13/ontologies/2022/0/library-ontology#type_of http://www.w3.org/2000/01/rdf-schema#domain http://www.semanticweb.org/elx13/ontologies/2022/0/library-ontology#Mathematic\n",
      "http://www.semanticweb.org/elx13/ontologies/2022/0/library-ontology#Security http://www.w3.org/2000/01/rdf-schema#subClassOf http://www.semanticweb.org/elx13/ontologies/2022/0/library-ontology#Employee\n",
      "http://www.semanticweb.org/elx13/ontologies/2022/0/library-ontology#Hugh_Neill http://www.semanticweb.org/elx13/ontologies/2022/0/library-ontology#writes http://www.semanticweb.org/elx13/ontologies/2022/0/library-ontology#Algebra:CompleteIntroduction\n",
      "http://www.semanticweb.org/elx13/ontologies/2022/0/library-ontology#name_of_book http://www.w3.org/1999/02/22-rdf-syntax-ns#type http://www.w3.org/2002/07/owl#DatatypeProperty\n",
      "http://www.semanticweb.org/elx13/ontologies/2022/0/library-ontology#Alice_Roberts http://www.w3.org/1999/02/22-rdf-syntax-ns#type http://www.w3.org/2002/07/owl#NamedIndividual\n",
      "http://www.semanticweb.org/elx13/ontologies/2022/0/library-ontology#has2 http://www.w3.org/2000/01/rdf-schema#domain http://www.semanticweb.org/elx13/ontologies/2022/0/library-ontology#Book\n",
      "http://www.semanticweb.org/elx13/ontologies/2022/0/library-ontology#Science http://www.w3.org/2000/01/rdf-schema#subClassOf http://www.semanticweb.org/elx13/ontologies/2022/0/library-ontology#Book\n"
     ]
    }
   ],
   "source": [
    "for index, (sub, pred, obj) in enumerate(g):\n",
    "    print(sub, pred, obj)\n",
    "    if index == 10:\n",
    "        break"
   ]
  },
  {
   "cell_type": "code",
   "execution_count": 7,
   "id": "ee3446bc",
   "metadata": {},
   "outputs": [
    {
     "name": "stdout",
     "output_type": "stream",
     "text": [
      "@prefix : <http://www.semanticweb.org/elx13/ontologies/2022/0/library-ontology#> .\n",
      "@prefix owl: <http://www.w3.org/2002/07/owl#> .\n",
      "@prefix rdfs: <http://www.w3.org/2000/01/rdf-schema#> .\n",
      "@prefix xsd: <http://www.w3.org/2001/XMLSchema#> .\n",
      "\n",
      "<http://www.semanticweb.org/elx13/ontologies/2022/0/library-ontology> a owl:Ontology .\n",
      "\n",
      ":Dance a owl:Class ;\n",
      "    rdfs:subClassOf :Art .\n",
      "\n",
      ":Doctrines a owl:Class ;\n",
      "    rdfs:subClassOf :Religion .\n",
      "\n",
      ":Elize_H a :Administrator,\n",
      "        :Staff,\n",
      "        owl:NamedIndividual ;\n",
      "    :name_of \"Elize H\"^^xsd:string ;\n",
      "    :organizes :Book ;\n",
      "    :wasBorn :France .\n",
      "\n",
      ":Emir_A a :User,\n",
      "        owl:NamedIndividual ;\n",
      "    :name_of \"Emir_A\"^^xsd:string ;\n",
      "    :use :Computer ;\n",
      "    :wasBorn :Turkey .\n",
      "\n",
      ":Engineering a owl:Class ;\n",
      "    rdfs:subClassOf :Technology .\n",
      "\n",
      ":English_Literature a owl:Class ;\n",
      "    rdfs:subClassOf :Literature,\n",
      "        :Phonetic .\n",
      "\n",
      ":Epistemology a owl:Class ;\n",
      "    rdfs:subClassOf :Philosophy .\n",
      "\n",
      ":Ethics a owl:Class ;\n",
      "    rdfs:subClassOf :Religion .\n",
      "\n",
      ":Havva a :Security,\n",
      "        owl:NamedIndividual ;\n",
      "    :name_of \"Havva\"^^xsd:string ;\n",
      "    :wasBorn :Turkey .\n",
      "\n",
      ":Linguistic a owl:Class ;\n",
      "    rdfs:subClassOf :Language .\n",
      "\n",
      ":Medical a owl:Class ;\n",
      "    rdfs:subClassOf :Science .\n",
      "\n",
      ":Medicine a owl:Class ;\n",
      "    rdfs:subClassOf :Technology .\n",
      "\n",
      ":Müyo a :User,\n",
      "        owl:NamedIndividual ;\n",
      "    :name_of \"Müyo\"^^xsd:string ;\n",
      "    :use :Computer ;\n",
      "    :wasBorn :England .\n",
      "\n",
      ":Nagihan_Baz a :Administrator,\n",
      "        owl:NamedIndividual ;\n",
      "    :keeps_track_of :Book ;\n",
      "    :name_of \"Nagihan Baz\"^^xsd:string ;\n",
      "    :visits :France ;\n",
      "    :wasBorn :Turkey .\n",
      "\n",
      ":Physics a owl:Class ;\n",
      "    rdfs:subClassOf :Science .\n",
      "\n",
      ":Psychometry a owl:Class ;\n",
      "    rdfs:subClassOf :Psychology .\n",
      "\n",
      ":Religious_Experience a owl:Class ;\n",
      "    rdfs:subClassOf :Religion .\n",
      "\n",
      ":Theater a owl:Class ;\n",
      "    rdfs:subClassOf :Art .\n",
      "\n",
      ":book a owl:DatatypeProperty .\n",
      "\n",
      ":genre a owl:DatatypeProperty .\n",
      "\n",
      ":has1 a owl:ObjectProperty ;\n",
      "    rdfs:domain :Book ;\n",
      "    rdfs:range :Publisher ;\n",
      "    owl:propertyDisjointWith :has2 .\n",
      "\n",
      ":hasEdition a owl:DatatypeProperty ;\n",
      "    rdfs:domain :Book ;\n",
      "    rdfs:range xsd:string ;\n",
      "    rdfs:subPropertyOf owl:topDataProperty .\n",
      "\n",
      ":hasPages a owl:DatatypeProperty ;\n",
      "    rdfs:domain :Book ;\n",
      "    rdfs:range xsd:positiveInteger .\n",
      "\n",
      ":hasPrice a owl:DatatypeProperty ;\n",
      "    rdfs:domain :Book ;\n",
      "    rdfs:range xsd:float .\n",
      "\n",
      ":instance_of a owl:ObjectProperty ;\n",
      "    rdfs:domain :Nuclear ;\n",
      "    rdfs:range :Science .\n",
      "\n",
      ":is_a a owl:ObjectProperty ;\n",
      "    rdfs:domain :Administrator,\n",
      "        :Staff ;\n",
      "    rdfs:range :Employee .\n",
      "\n",
      ":keeps_track_of a owl:ObjectProperty ;\n",
      "    rdfs:domain :Administrator ;\n",
      "    rdfs:range :Book .\n",
      "\n",
      ":name_of a owl:DatatypeProperty ;\n",
      "    rdfs:domain :Administrator,\n",
      "        :Author,\n",
      "        :Staff ;\n",
      "    rdfs:range xsd:string .\n",
      "\n",
      ":name_of_book a owl:DatatypeProperty ;\n",
      "    rdfs:domain :Book ;\n",
      "    rdfs:range xsd:string ;\n",
      "    rdfs:subPropertyOf owl:topDataProperty .\n",
      "\n",
      ":organizes a owl:ObjectProperty ;\n",
      "    rdfs:domain :Staff ;\n",
      "    rdfs:range :Book .\n",
      "\n",
      ":published_by a owl:ObjectProperty ;\n",
      "    rdfs:domain :Publisher ;\n",
      "    rdfs:range :Book .\n",
      "\n",
      ":research a owl:ObjectProperty ;\n",
      "    rdfs:domain :User ;\n",
      "    rdfs:range :Book .\n",
      "\n",
      ":sequel_of a owl:ObjectProperty ;\n",
      "    rdfs:domain :Book ;\n",
      "    rdfs:range :Book .\n",
      "\n",
      ":type_of a owl:ObjectProperty ;\n",
      "    rdfs:domain :Arithmetics,\n",
      "        :Art,\n",
      "        :Language,\n",
      "        :Literature,\n",
      "        :Mathematic,\n",
      "        :Philosophy,\n",
      "        :Psychology,\n",
      "        :Religion,\n",
      "        :Science,\n",
      "        :Technology ;\n",
      "    rdfs:range :Book ;\n",
      "    rdfs:subPropertyOf owl:topObjectProperty .\n",
      "\n",
      ":use a owl:ObjectProperty ;\n",
      "    rdfs:domain :User ;\n",
      "    rdfs:range :Computer ;\n",
      "    rdfs:subPropertyOf owl:topObjectProperty .\n",
      "\n",
      ":visits a owl:ObjectProperty ;\n",
      "    rdfs:domain :User ;\n",
      "    rdfs:range :Library .\n",
      "\n",
      ":wasBorn a owl:ObjectProperty ;\n",
      "    rdfs:domain :Author ;\n",
      "    rdfs:range :Country .\n",
      "\n",
      ":work a owl:ObjectProperty ;\n",
      "    rdfs:domain :Administrator,\n",
      "        :Employee,\n",
      "        :Staff ;\n",
      "    rdfs:range :Library .\n",
      "\n",
      ":writes a owl:ObjectProperty ;\n",
      "    rdfs:domain :Author ;\n",
      "    rdfs:range :Book ;\n",
      "    rdfs:subPropertyOf owl:topObjectProperty ;\n",
      "    owl:inverseOf :written_by .\n",
      "\n",
      ":İlknur_Alkan a :Staff,\n",
      "        owl:NamedIndividual ;\n",
      "    :name_of \"İlknur_Alkan\"^^xsd:string ;\n",
      "    :visits :Turkey ;\n",
      "    :wasBorn :England .\n",
      "\n",
      ":Algebra a owl:Class ;\n",
      "    rdfs:subClassOf :Mathematic .\n",
      "\n",
      "<http://www.semanticweb.org/elx13/ontologies/2022/0/library-ontology#Algebra:CompleteIntroduction> a :Algebra,\n",
      "        owl:NamedIndividual ;\n",
      "    :genre \"Algebra\"^^xsd:string ;\n",
      "    :hasPages 256 ;\n",
      "    :name_of_book \"Algebra:CompleteIntroduction\"^^xsd:string ;\n",
      "    :published_by :Hakan_P ;\n",
      "    :type_of :Book ;\n",
      "    :written_by :Hugh_Neill ;\n",
      "    owl:sameAs :Book .\n",
      "\n",
      ":Arithmetics a owl:Class ;\n",
      "    rdfs:subClassOf :Mathematic .\n",
      "\n",
      ":Hugh_Neill a :Author,\n",
      "        owl:NamedIndividual ;\n",
      "    :name_of \"Hugh_Neill\"^^xsd:string ;\n",
      "    :wasBorn :England ;\n",
      "    :writes <http://www.semanticweb.org/elx13/ontologies/2022/0/library-ontology#Algebra:CompleteIntroduction> .\n",
      "\n",
      ":Humanism a owl:Class ;\n",
      "    rdfs:subClassOf :Philosophy .\n",
      "\n",
      ":Nuclear a owl:Class ;\n",
      "    rdfs:subClassOf :Technology .\n",
      "\n",
      ":Phonetic a owl:Class ;\n",
      "    rdfs:subClassOf :Language .\n",
      "\n",
      ":Security a owl:Class ;\n",
      "    rdfs:subClassOf :Employee .\n",
      "\n",
      ":Yaşar_Kemal a :Author,\n",
      "        owl:NamedIndividual ;\n",
      "    :name_of \"Yaşar_Kemal\"^^xsd:string ;\n",
      "    :wasBorn :Turkey ;\n",
      "    :writes :InceMemed .\n",
      "\n",
      ":has2 a owl:ObjectProperty ;\n",
      "    rdfs:domain :Book ;\n",
      "    rdfs:range :Author .\n",
      "\n",
      ":istance_of2 a owl:ObjectProperty ;\n",
      "    rdfs:range [ a owl:Restriction ;\n",
      "            owl:onProperty :istance_of2 ;\n",
      "            owl:someValuesFrom :Turkish_Literature ] .\n",
      "\n",
      ":written_by a owl:ObjectProperty ;\n",
      "    rdfs:domain :Author ;\n",
      "    rdfs:range :Book .\n",
      "\n",
      ":Hakan_P a :Publisher,\n",
      "        owl:NamedIndividual ;\n",
      "    :name_of \"Hakan_P\"^^xsd:string ;\n",
      "    :wasBorn :France .\n",
      "\n",
      ":InceMemed a :Turkish_Literature,\n",
      "        owl:NamedIndividual ;\n",
      "    :genre \"Turkish_Literature\"^^xsd:string ;\n",
      "    :hasPages 1059 ;\n",
      "    :name_of_book \"InceMemed\"^^xsd:string ;\n",
      "    :type_of :Book ;\n",
      "    :written_by :Yaşar_Kemal .\n",
      "\n",
      ":Kurgu3 a :Others,\n",
      "        owl:NamedIndividual ;\n",
      "    :genre \"Others\"^^xsd:string ;\n",
      "    :hasPages 321 ;\n",
      "    :name_of_book \"Kurgu3\"^^xsd:string ;\n",
      "    :sequel_of :Kurgu2 ;\n",
      "    :type_of :Book ;\n",
      "    :written_by :Margaret_Atwood .\n",
      "\n",
      ":PicturePerfect a :Others,\n",
      "        owl:NamedIndividual ;\n",
      "    :genre \"Others\"^^xsd:string ;\n",
      "    :hasPages 447 ;\n",
      "    :name_of_book \"PicturePerfect\"^^xsd:string ;\n",
      "    :sequel_of :ThePinkRose ;\n",
      "    :type_of :Book ;\n",
      "    :written_by :Alice_Roberts .\n",
      "\n",
      ":Psychology a owl:Class ;\n",
      "    rdfs:subClassOf :Book .\n",
      "\n",
      ":TheLittleBookofHumanism a :Humanism,\n",
      "        owl:NamedIndividual ;\n",
      "    :genre \"Humanism\"^^xsd:string ;\n",
      "    :hasPages 143 ;\n",
      "    :name_of_book \"TheLittleBookofHumanism\"^^xsd:string ;\n",
      "    :published_by :Hakan_P ;\n",
      "    :type_of :Book ;\n",
      "    :written_by :Alice_Roberts .\n",
      "\n",
      ":Turkish_Literature a owl:Class ;\n",
      "    rdfs:subClassOf :Literature .\n",
      "\n",
      ":Alice_Roberts a :Author,\n",
      "        owl:NamedIndividual ;\n",
      "    :name_of \"Alice_Roberts\"^^xsd:string ;\n",
      "    :wasBorn :England ;\n",
      "    :writes :PicturePerfect,\n",
      "        :TheLittleBookofHumanism,\n",
      "        :ThePinkRose .\n",
      "\n",
      ":Art a owl:Class ;\n",
      "    rdfs:subClassOf :Book .\n",
      "\n",
      ":Kurgu a :Others,\n",
      "        owl:NamedIndividual ;\n",
      "    :genre \"Others\"^^xsd:string ;\n",
      "    :hasPages 198 ;\n",
      "    :name_of_book \"Kurgu\"^^xsd:string ;\n",
      "    :type_of :Book ;\n",
      "    :written_by :Margaret_Atwood .\n",
      "\n",
      ":Kurgu2 a :Others,\n",
      "        owl:NamedIndividual ;\n",
      "    :genre \"Others\"^^xsd:string ;\n",
      "    :hasPages 267 ;\n",
      "    :name_of_book \"Kurgu2\"^^xsd:string ;\n",
      "    :sequel_of :Kurgu ;\n",
      "    :type_of :Book ;\n",
      "    :written_by :Margaret_Atwood .\n",
      "\n",
      ":Language a owl:Class ;\n",
      "    rdfs:subClassOf :Book .\n",
      "\n",
      ":Literature a owl:Class ;\n",
      "    rdfs:subClassOf :Book .\n",
      "\n",
      ":Margaret_Atwood a :Author,\n",
      "        owl:NamedIndividual ;\n",
      "    :wasBorn :France ;\n",
      "    :writes :Kurgu,\n",
      "        :Kurgu2,\n",
      "        :Kurgu3 .\n",
      "\n",
      ":Mathematic a owl:Class ;\n",
      "    rdfs:subClassOf :Book .\n",
      "\n",
      ":Philosophy a owl:Class ;\n",
      "    rdfs:subClassOf :Book .\n",
      "\n",
      ":Publisher a owl:Class ;\n",
      "    rdfs:subClassOf :Library .\n",
      "\n",
      ":ThePinkRose a :Others,\n",
      "        owl:NamedIndividual ;\n",
      "    :genre \"Others\"^^xsd:string ;\n",
      "    :hasPages 352 ;\n",
      "    :name_of_book \"ThePinkRose\"^^xsd:string ;\n",
      "    :type_of :Book ;\n",
      "    :written_by :Alice_Roberts .\n",
      "\n",
      ":Computer a :Computer,\n",
      "        owl:Class,\n",
      "        owl:NamedIndividual ;\n",
      "    rdfs:subClassOf :Library .\n",
      "\n",
      ":Country a owl:Class ;\n",
      "    rdfs:subClassOf :Library .\n",
      "\n",
      ":England a :Country,\n",
      "        owl:NamedIndividual .\n",
      "\n",
      ":France a :Country,\n",
      "        owl:NamedIndividual .\n",
      "\n",
      ":Religion a owl:Class ;\n",
      "    rdfs:subClassOf :Book .\n",
      "\n",
      ":Science a owl:Class ;\n",
      "    rdfs:subClassOf :Book .\n",
      "\n",
      ":Technology a owl:Class ;\n",
      "    rdfs:subClassOf :Book .\n",
      "\n",
      ":Employee a owl:Class ;\n",
      "    rdfs:subClassOf :Library .\n",
      "\n",
      ":Others a owl:Class ;\n",
      "    rdfs:subClassOf :Book .\n",
      "\n",
      ":Turkey a :Country,\n",
      "        owl:NamedIndividual .\n",
      "\n",
      ":User a owl:Class ;\n",
      "    rdfs:subClassOf :Library .\n",
      "\n",
      ":Administrator a owl:Class ;\n",
      "    rdfs:subClassOf :Employee .\n",
      "\n",
      ":Staff a owl:Class ;\n",
      "    rdfs:subClassOf :Employee .\n",
      "\n",
      ":Author a owl:Class ;\n",
      "    rdfs:subClassOf :Library .\n",
      "\n",
      ":Library a owl:Class .\n",
      "\n",
      ":Book a :Book,\n",
      "        owl:Class,\n",
      "        owl:NamedIndividual ;\n",
      "    rdfs:subClassOf :Library ;\n",
      "    owl:sameAs :InceMemed,\n",
      "        :Kurgu,\n",
      "        :Kurgu2,\n",
      "        :Kurgu3,\n",
      "        :PicturePerfect,\n",
      "        :TheLittleBookofHumanism,\n",
      "        :ThePinkRose .\n",
      "\n",
      "\n"
     ]
    }
   ],
   "source": [
    "print(g.serialize(format='ttl'))"
   ]
  },
  {
   "cell_type": "code",
   "execution_count": 11,
   "id": "d7aa456d",
   "metadata": {},
   "outputs": [
    {
     "data": {
      "text/plain": [
       "<Graph identifier=N38d700d3eef542e18385e3b79439d285 (<class 'rdflib.graph.Graph'>)>"
      ]
     },
     "execution_count": 11,
     "metadata": {},
     "output_type": "execute_result"
    }
   ],
   "source": [
    "g.serialize(destination='output_lib.txt', format='turtle')"
   ]
  },
  {
   "cell_type": "code",
   "execution_count": 12,
   "id": "2779585f",
   "metadata": {},
   "outputs": [
    {
     "data": {
      "text/plain": [
       "9245"
      ]
     },
     "execution_count": 12,
     "metadata": {},
     "output_type": "execute_result"
    }
   ],
   "source": [
    "file = open(\"output-lib.txt\", \"w\")\n",
    "file.write(g.serialize(format='turtle'))"
   ]
  },
  {
   "cell_type": "markdown",
   "id": "96bad5a7",
   "metadata": {},
   "source": [
    "## Examples"
   ]
  },
  {
   "cell_type": "markdown",
   "id": "3134e648",
   "metadata": {},
   "source": [
    "### All book titles in the library"
   ]
  },
  {
   "cell_type": "code",
   "execution_count": 41,
   "id": "13f5e3fe",
   "metadata": {},
   "outputs": [
    {
     "name": "stdout",
     "output_type": "stream",
     "text": [
      "Algebra:CompleteIntroduction\n",
      "InceMemed\n",
      "Kurgu\n",
      "Kurgu2\n",
      "Kurgu3\n",
      "PicturePerfect\n",
      "TheLittleBookofHumanism\n",
      "ThePinkRose\n"
     ]
    }
   ],
   "source": [
    "book_names = g.query(\"\"\"\n",
    "SELECT ?name\n",
    "WHERE{\n",
    "?x :name_of_book ?name\n",
    "}\n",
    "\"\"\")\n",
    "\n",
    "for n in book_names:\n",
    "    print(n[0])"
   ]
  },
  {
   "cell_type": "markdown",
   "id": "1926fd87",
   "metadata": {},
   "source": [
    "### Authors"
   ]
  },
  {
   "cell_type": "code",
   "execution_count": 70,
   "id": "30dda406",
   "metadata": {},
   "outputs": [
    {
     "name": "stdout",
     "output_type": "stream",
     "text": [
      "http://www.semanticweb.org/elx13/ontologies/2022/0/library-ontology#Alice_Roberts\n",
      "http://www.semanticweb.org/elx13/ontologies/2022/0/library-ontology#Alice_Roberts\n",
      "http://www.semanticweb.org/elx13/ontologies/2022/0/library-ontology#Alice_Roberts\n",
      "http://www.semanticweb.org/elx13/ontologies/2022/0/library-ontology#Hugh_Neill\n",
      "http://www.semanticweb.org/elx13/ontologies/2022/0/library-ontology#Margaret_Atwood\n",
      "http://www.semanticweb.org/elx13/ontologies/2022/0/library-ontology#Margaret_Atwood\n",
      "http://www.semanticweb.org/elx13/ontologies/2022/0/library-ontology#Margaret_Atwood\n",
      "http://www.semanticweb.org/elx13/ontologies/2022/0/library-ontology#Yaşar_Kemal\n"
     ]
    }
   ],
   "source": [
    "a = g.query(\"\"\"\n",
    "SELECT ?author\n",
    "WHERE{\n",
    "?author :writes ?book\n",
    "}\n",
    "\"\"\")\n",
    "\n",
    "for n in a:\n",
    "    print(n[0])"
   ]
  },
  {
   "cell_type": "markdown",
   "id": "5c7c0a93",
   "metadata": {},
   "source": [
    "### How many books were published by whom?"
   ]
  },
  {
   "cell_type": "code",
   "execution_count": 54,
   "id": "e2d4850a",
   "metadata": {},
   "outputs": [
    {
     "name": "stdout",
     "output_type": "stream",
     "text": [
      "http://www.semanticweb.org/elx13/ontologies/2022/0/library-ontology#Hakan_P\n",
      "http://www.semanticweb.org/elx13/ontologies/2022/0/library-ontology#Hakan_P\n"
     ]
    }
   ],
   "source": [
    "pub = g.query(\"\"\"\n",
    "SELECT ?name\n",
    "WHERE{\n",
    "?x :published_by ?name\n",
    "}\n",
    "\"\"\")\n",
    "\n",
    "for n in pub:\n",
    "    print(n[0])"
   ]
  },
  {
   "cell_type": "markdown",
   "id": "cd68fe93",
   "metadata": {},
   "source": [
    "### Who was born in England?"
   ]
  },
  {
   "cell_type": "code",
   "execution_count": 71,
   "id": "601f0279",
   "metadata": {},
   "outputs": [
    {
     "name": "stdout",
     "output_type": "stream",
     "text": [
      "http://www.semanticweb.org/elx13/ontologies/2022/0/library-ontology#Alice_Roberts\n",
      "http://www.semanticweb.org/elx13/ontologies/2022/0/library-ontology#Hugh_Neill\n",
      "http://www.semanticweb.org/elx13/ontologies/2022/0/library-ontology#Müyo\n",
      "http://www.semanticweb.org/elx13/ontologies/2022/0/library-ontology#İlknur_Alkan\n"
     ]
    }
   ],
   "source": [
    "eng = g.query(\"\"\"\n",
    "SELECT ?user ?t\n",
    "WHERE{\n",
    "?user :wasBorn :England.\n",
    "}\n",
    "\"\"\")\n",
    "\n",
    "for n in eng:\n",
    "    print(n[0])"
   ]
  },
  {
   "cell_type": "code",
   "execution_count": null,
   "id": "62bed25d",
   "metadata": {},
   "outputs": [],
   "source": []
  }
 ],
 "metadata": {
  "kernelspec": {
   "display_name": "Python 3 (ipykernel)",
   "language": "python",
   "name": "python3"
  },
  "language_info": {
   "codemirror_mode": {
    "name": "ipython",
    "version": 3
   },
   "file_extension": ".py",
   "mimetype": "text/x-python",
   "name": "python",
   "nbconvert_exporter": "python",
   "pygments_lexer": "ipython3",
   "version": "3.9.7"
  }
 },
 "nbformat": 4,
 "nbformat_minor": 5
}
